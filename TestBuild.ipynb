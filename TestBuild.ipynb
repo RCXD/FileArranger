{
 "cells": [
  {
   "cell_type": "markdown",
   "metadata": {},
   "source": [
    "tester ipython notebook for later builds"
   ]
  },
  {
   "cell_type": "markdown",
   "metadata": {},
   "source": [
    "# imports"
   ]
  },
  {
   "cell_type": "code",
   "execution_count": null,
   "metadata": {},
   "outputs": [],
   "source": [
    "pip install pyqt5 pyinstaller"
   ]
  },
  {
   "cell_type": "code",
   "execution_count": 1,
   "metadata": {},
   "outputs": [
    {
     "name": "stdout",
     "output_type": "stream",
     "text": [
      "Button Clicked!\n",
      "Button Clicked!\n",
      "Button Clicked!\n",
      "Button Clicked!\n"
     ]
    },
    {
     "ename": "SystemExit",
     "evalue": "0",
     "output_type": "error",
     "traceback": [
      "An exception has occurred, use %tb to see the full traceback.\n",
      "\u001b[1;31mSystemExit\u001b[0m\u001b[1;31m:\u001b[0m 0\n"
     ]
    },
    {
     "name": "stderr",
     "output_type": "stream",
     "text": [
      "c:\\Python38\\lib\\site-packages\\IPython\\core\\interactiveshell.py:3449: UserWarning: To exit: use 'exit', 'quit', or Ctrl-D.\n",
      "  warn(\"To exit: use 'exit', 'quit', or Ctrl-D.\", stacklevel=1)\n"
     ]
    }
   ],
   "source": [
    "import sys\n",
    "from PyQt5.QtWidgets import QApplication, QWidget, QVBoxLayout, QPushButton\n",
    "\n",
    "class MyApp(QWidget):\n",
    "    def __init__(self):\n",
    "        super().__init__()\n",
    "\n",
    "        self.setWindowTitle(\"My PyQt Application\")\n",
    "        self.setGeometry(100, 100, 300, 200)\n",
    "\n",
    "        layout = QVBoxLayout()\n",
    "\n",
    "        button = QPushButton(\"Click Me\")\n",
    "        button.clicked.connect(self.on_click)\n",
    "\n",
    "        layout.addWidget(button)\n",
    "        self.setLayout(layout)\n",
    "\n",
    "    def on_click(self):\n",
    "        print(\"Button Clicked!\")\n",
    "\n",
    "if __name__ == \"__main__\":\n",
    "    app = QApplication(sys.argv)\n",
    "    window = MyApp()\n",
    "    window.show()\n",
    "    sys.exit(app.exec_())"
   ]
  },
  {
   "cell_type": "code",
   "execution_count": 17,
   "metadata": {},
   "outputs": [],
   "source": [
    "import glob\n",
    "from pathlib import Path\n",
    "\n",
    "p=Path(\".\")"
   ]
  },
  {
   "cell_type": "code",
   "execution_count": 18,
   "metadata": {},
   "outputs": [
    {
     "data": {
      "text/plain": [
       "WindowsPath('.')"
      ]
     },
     "execution_count": 18,
     "metadata": {},
     "output_type": "execute_result"
    }
   ],
   "source": [
    "p"
   ]
  },
  {
   "cell_type": "code",
   "execution_count": 14,
   "metadata": {},
   "outputs": [
    {
     "data": {
      "text/plain": [
       "'# FileArranger\\nArrange files in Windows system\\n'"
      ]
     },
     "execution_count": 14,
     "metadata": {},
     "output_type": "execute_result"
    }
   ],
   "source": [
    "p.read_text()"
   ]
  },
  {
   "cell_type": "code",
   "execution_count": 29,
   "metadata": {},
   "outputs": [],
   "source": [
    "class Directory:\n",
    "    def __init__(self, path:Path=None):\n",
    "        if path is not None:\n",
    "            self._path=path\n",
    "    \n",
    "    @property\n",
    "    def path(self):\n",
    "        return self._path\n",
    "    @path.setter\n",
    "    def path(self, path:Path):\n",
    "        self._path=path"
   ]
  },
  {
   "cell_type": "code",
   "execution_count": 22,
   "metadata": {},
   "outputs": [],
   "source": [
    "class File:\n",
    "    '''file tags to search file items'''\n",
    "    # __default_tags={\n",
    "    # }\n",
    "    __default_tags={\n",
    "        '파일 유형':None,\n",
    "        '만든 날짜':None,\n",
    "        '수정 날짜':None,\n",
    "    }\n",
    "    def __init__(self):\n",
    "        self._meta=File.__default_tags.copy()\n",
    "    \n",
    "    @property\n",
    "    def path(self):\n",
    "        return self._path\n",
    "    @path.setter\n",
    "    def path(self, path:Path):\n",
    "        self._path=path\n",
    "\n",
    "    @property\n",
    "    def meta(self):\n",
    "        return self._meta\n",
    "    @meta.setter\n",
    "    def meta(self, meta:dict):\n",
    "        self._meta=meta"
   ]
  },
  {
   "cell_type": "code",
   "execution_count": null,
   "metadata": {},
   "outputs": [],
   "source": [
    "class Datastructure:\n",
    "    '''structure class to construct base data structure\n",
    "    '''\n",
    "    def __init__(self):\n",
    "        ...\n",
    "    \n",
    "    def link_base(self, direc:Directory):\n",
    "        self._base_dir=direc.path\n",
    "        gl=glob.glob(str(ds._base_dir)+'/**/*', recursive=True)\n",
    "        pl=[Path(p) for p in gl]"
   ]
  },
  {
   "cell_type": "code",
   "execution_count": 77,
   "metadata": {},
   "outputs": [],
   "source": [
    "ds=Datastructure()"
   ]
  },
  {
   "cell_type": "code",
   "execution_count": 78,
   "metadata": {},
   "outputs": [],
   "source": [
    "base_dir=Directory(Path(\"./test_dir\"))"
   ]
  },
  {
   "cell_type": "code",
   "execution_count": 79,
   "metadata": {},
   "outputs": [],
   "source": [
    "ds.link_base(base_dir)"
   ]
  },
  {
   "cell_type": "code",
   "execution_count": 80,
   "metadata": {},
   "outputs": [
    {
     "data": {
      "text/plain": [
       "WindowsPath('test_dir')"
      ]
     },
     "execution_count": 80,
     "metadata": {},
     "output_type": "execute_result"
    }
   ],
   "source": [
    "ds._base_dir"
   ]
  },
  {
   "cell_type": "code",
   "execution_count": 92,
   "metadata": {},
   "outputs": [
    {
     "name": "stdout",
     "output_type": "stream",
     "text": [
      "test_dir\\test_dir1\n",
      "True\n",
      "test_dir\\test_file0\n",
      "False\n",
      "test_dir\\test_file1\n",
      "False\n",
      "test_dir\\test_file2.txt\n",
      "False\n",
      "test_dir\\test_dir1\\test_file10\n",
      "False\n",
      "test_dir\\test_dir1\\test_file11\n",
      "False\n"
     ]
    }
   ],
   "source": [
    "ls=glob.glob(str(ds._base_dir)+'/**/*', recursive=True)\n",
    "for l in ls:\n",
    "    print(Path(l))\n",
    "    print(Path(l).is_dir())"
   ]
  },
  {
   "cell_type": "code",
   "execution_count": 68,
   "metadata": {},
   "outputs": [
    {
     "name": "stdout",
     "output_type": "stream",
     "text": [
      "test_file2.txt\n"
     ]
    },
    {
     "data": {
      "text/plain": [
       "False"
      ]
     },
     "execution_count": 68,
     "metadata": {},
     "output_type": "execute_result"
    }
   ],
   "source": [
    "p=Path('./test_file2.txt')\n",
    "print(p)\n",
    "p.is_dir()"
   ]
  },
  {
   "cell_type": "code",
   "execution_count": null,
   "metadata": {},
   "outputs": [],
   "source": []
  },
  {
   "cell_type": "markdown",
   "metadata": {},
   "source": [
    "Directory Trees"
   ]
  },
  {
   "cell_type": "code",
   "execution_count": null,
   "metadata": {},
   "outputs": [
    {
     "ename": "TypeError",
     "evalue": "'set' object is not subscriptable",
     "output_type": "error",
     "traceback": [
      "\u001b[1;31m---------------------------------------------------------------------------\u001b[0m",
      "\u001b[1;31mTypeError\u001b[0m                                 Traceback (most recent call last)",
      "\u001b[1;32m~\\AppData\\Local\\Temp/ipykernel_18364/695463011.py\u001b[0m in \u001b[0;36m<module>\u001b[1;34m\u001b[0m\n\u001b[0;32m     50\u001b[0m \u001b[1;33m\u001b[0m\u001b[0m\n\u001b[0;32m     51\u001b[0m \u001b[1;31m# print(tree.files)\u001b[0m\u001b[1;33m\u001b[0m\u001b[1;33m\u001b[0m\u001b[1;33m\u001b[0m\u001b[0m\n\u001b[1;32m---> 52\u001b[1;33m \u001b[0mtree\u001b[0m\u001b[1;33m.\u001b[0m\u001b[0madd_tag\u001b[0m\u001b[1;33m(\u001b[0m\u001b[0mtree\u001b[0m\u001b[1;33m.\u001b[0m\u001b[0mbase_path\u001b[0m\u001b[1;33m/\u001b[0m\u001b[1;34m'test_file0'\u001b[0m\u001b[1;33m,\u001b[0m \u001b[1;34m'type'\u001b[0m\u001b[1;33m,\u001b[0m \u001b[1;34m'data'\u001b[0m\u001b[1;33m)\u001b[0m\u001b[1;33m\u001b[0m\u001b[1;33m\u001b[0m\u001b[0m\n\u001b[0m\u001b[0;32m     53\u001b[0m \u001b[0mtree\u001b[0m\u001b[1;33m.\u001b[0m\u001b[0madd_tag\u001b[0m\u001b[1;33m(\u001b[0m\u001b[0mtree\u001b[0m\u001b[1;33m.\u001b[0m\u001b[0mbase_path\u001b[0m\u001b[1;33m/\u001b[0m\u001b[1;34m'test_file0'\u001b[0m\u001b[1;33m,\u001b[0m \u001b[1;34m'date_of_creation'\u001b[0m\u001b[1;33m,\u001b[0m \u001b[1;34m'04-17-2025'\u001b[0m\u001b[1;33m)\u001b[0m\u001b[1;33m\u001b[0m\u001b[1;33m\u001b[0m\u001b[0m\n\u001b[0;32m     54\u001b[0m \u001b[1;33m\u001b[0m\u001b[0m\n",
      "\u001b[1;32m~\\AppData\\Local\\Temp/ipykernel_18364/695463011.py\u001b[0m in \u001b[0;36madd_tag\u001b[1;34m(self, file_path, key, value)\u001b[0m\n\u001b[0;32m     30\u001b[0m             \u001b[1;32mraise\u001b[0m \u001b[0mKeyError\u001b[0m\u001b[1;33m(\u001b[0m\u001b[1;34mf\"Tag '{key}' is not allowed. Allowed tags: {list(self.allowed_tags.keys())}\"\u001b[0m\u001b[1;33m)\u001b[0m\u001b[1;33m\u001b[0m\u001b[1;33m\u001b[0m\u001b[0m\n\u001b[0;32m     31\u001b[0m \u001b[1;33m\u001b[0m\u001b[0m\n\u001b[1;32m---> 32\u001b[1;33m         \u001b[0mexpected_type\u001b[0m \u001b[1;33m=\u001b[0m \u001b[0mself\u001b[0m\u001b[1;33m.\u001b[0m\u001b[0mallowed_tags\u001b[0m\u001b[1;33m[\u001b[0m\u001b[0mkey\u001b[0m\u001b[1;33m]\u001b[0m\u001b[1;33m\u001b[0m\u001b[1;33m\u001b[0m\u001b[0m\n\u001b[0m\u001b[0;32m     33\u001b[0m         \u001b[1;32mif\u001b[0m \u001b[1;32mnot\u001b[0m \u001b[0misinstance\u001b[0m\u001b[1;33m(\u001b[0m\u001b[0mvalue\u001b[0m\u001b[1;33m,\u001b[0m \u001b[0mexpected_type\u001b[0m\u001b[1;33m)\u001b[0m\u001b[1;33m:\u001b[0m\u001b[1;33m\u001b[0m\u001b[1;33m\u001b[0m\u001b[0m\n\u001b[0;32m     34\u001b[0m             \u001b[1;32mraise\u001b[0m \u001b[0mTypeError\u001b[0m\u001b[1;33m(\u001b[0m\u001b[1;34mf\"Tag '{key}' must be of type {expected_type.__name__}, got {type(value).__name__}.\"\u001b[0m\u001b[1;33m)\u001b[0m\u001b[1;33m\u001b[0m\u001b[1;33m\u001b[0m\u001b[0m\n",
      "\u001b[1;31mTypeError\u001b[0m: 'set' object is not subscriptable"
     ]
    }
   ],
   "source": [
    "from pathlib import Path\n",
    "from collections import defaultdict\n",
    "\n",
    "class DirectoryTree:\n",
    "    def __init__(self, base_path, allowed_tags=None):\n",
    "        self.base_path = Path(base_path).resolve()\n",
    "        self.files = []\n",
    "        self.subdirectories = []\n",
    "        self.tags = defaultdict(dict)  # {Path: {tag_key: tag_value}}\n",
    "\n",
    "        # Define allowed tags and their expected types\n",
    "        self.allowed_tags = allowed_tags or {}\n",
    "\n",
    "        self._scan()\n",
    "\n",
    "    def _scan(self):\n",
    "        for path in self.base_path.rglob(\"*\"):\n",
    "            if path.is_file():\n",
    "                self.files.append(path)\n",
    "            elif path.is_dir():\n",
    "                self.subdirectories.append(path)\n",
    "\n",
    "    def add_tag(self, file_path, key, value):\n",
    "        file_path = Path(file_path).resolve()\n",
    "\n",
    "        if file_path not in self.files:\n",
    "            raise ValueError(f\"File {file_path} not found in directory tree.\")\n",
    "\n",
    "        if key not in self.allowed_tags:\n",
    "            raise KeyError(f\"Tag '{key}' is not allowed. Allowed tags: {list(self.allowed_tags.keys())}\")\n",
    "\n",
    "        expected_type = self.allowed_tags[key]\n",
    "        if not isinstance(value, expected_type):\n",
    "            raise TypeError(f\"Tag '{key}' must be of type {expected_type.__name__}, got {type(value).__name__}.\")\n",
    "\n",
    "        self.tags[file_path][key] = value\n",
    "\n",
    "    def search_by_tag(self, key, value):\n",
    "        if key not in self.allowed_tags:\n",
    "            raise KeyError(f\"Cannot search by unregistered tag '{key}'.\")\n",
    "\n",
    "        return [\n",
    "            file_path\n",
    "            for file_path, tag_dict in self.tags.items()\n",
    "            if tag_dict.get(key) == value\n",
    "        ]\n",
    "\n",
    "allowed_tags={\n",
    "    'type':str,\n",
    "    'date_of_creation':str,#Date,\n",
    "    'size_kb':int,\n",
    "    }\n",
    "tree=DirectoryTree(Path('./test_dir'), allowed_tags=allowed_tags)\n",
    "\n",
    "# print(tree.files)\n",
    "tree.add_tag(tree.base_path/'test_file0', 'type', 'data')\n",
    "tree.add_tag(tree.base_path/'test_file0', 'date_of_creation', '04-17-2025')\n",
    "\n"
   ]
  }
 ],
 "metadata": {
  "kernelspec": {
   "display_name": "Python 3",
   "language": "python",
   "name": "python3"
  },
  "language_info": {
   "codemirror_mode": {
    "name": "ipython",
    "version": 3
   },
   "file_extension": ".py",
   "mimetype": "text/x-python",
   "name": "python",
   "nbconvert_exporter": "python",
   "pygments_lexer": "ipython3",
   "version": "3.8.10"
  }
 },
 "nbformat": 4,
 "nbformat_minor": 2
}
